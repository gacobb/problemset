{
 "cells": [
  {
   "cell_type": "code",
   "execution_count": 4,
   "metadata": {},
   "outputs": [
    {
     "name": "stdout",
     "output_type": "stream",
     "text": [
      "6.647\n",
      "2018-10-10 18:06\n"
     ]
    }
   ],
   "source": [
    "#problem1\n",
    "#open csv file\n",
    "f = open('/ufrc/zoo6927/share/Class_Files/data/CO-OPS__8729108__wl.csv')\n",
    "#read first line\n",
    "line = f.readline()\n",
    "#set max water level to 0\n",
    "max = 0\n",
    "#search for highest water level and date/time it occurred\n",
    "for line in f:\n",
    "\tline = f.readline()\n",
    "\ttry:\n",
    "\t\tnum = float(line.split(\",\")[1])\n",
    "\texcept:\n",
    "\t\tcontinue\n",
    "\tif (max < num):\n",
    "\t\tmax = num\n",
    "\t\tdate = (line.split(\",\")[0])\n",
    "print(max)\n",
    "print(date)\n",
    "#Peer review comments: Very concise. Nice code! I would just say if you could add a little more commentary regarding what commands like 'line.split' do because they are a little beyond what we learned so far.     "
   ]
  },
  {
   "cell_type": "code",
   "execution_count": 5,
   "metadata": {},
   "outputs": [
    {
     "data": {
      "text/html": [
       "<div>\n",
       "<style scoped>\n",
       "    .dataframe tbody tr th:only-of-type {\n",
       "        vertical-align: middle;\n",
       "    }\n",
       "\n",
       "    .dataframe tbody tr th {\n",
       "        vertical-align: top;\n",
       "    }\n",
       "\n",
       "    .dataframe thead th {\n",
       "        text-align: right;\n",
       "    }\n",
       "</style>\n",
       "<table border=\"1\" class=\"dataframe\">\n",
       "  <thead>\n",
       "    <tr style=\"text-align: right;\">\n",
       "      <th></th>\n",
       "      <th>Date Time</th>\n",
       "      <th>Water Level</th>\n",
       "      <th>Sigma</th>\n",
       "      <th>O</th>\n",
       "      <th>F</th>\n",
       "      <th>R</th>\n",
       "      <th>L</th>\n",
       "      <th>Quality</th>\n",
       "    </tr>\n",
       "  </thead>\n",
       "  <tbody>\n",
       "    <tr>\n",
       "      <th>421</th>\n",
       "      <td>2018-10-10 18:06</td>\n",
       "      <td>6.647</td>\n",
       "      <td>0.561</td>\n",
       "      <td>1</td>\n",
       "      <td>0</td>\n",
       "      <td>0</td>\n",
       "      <td>0</td>\n",
       "      <td>p</td>\n",
       "    </tr>\n",
       "  </tbody>\n",
       "</table>\n",
       "</div>"
      ],
      "text/plain": [
       "            Date Time  Water Level  Sigma  O  F  R  L Quality\n",
       "421  2018-10-10 18:06        6.647  0.561  1  0  0  0       p"
      ]
     },
     "execution_count": 5,
     "metadata": {},
     "output_type": "execute_result"
    }
   ],
   "source": [
    "#problem 2\n",
    "import pandas as pd\n",
    "#read csv as pandas dataframe \n",
    "df = pd.read_csv('/ufrc/zoo6927/share/Class_Files/data/CO-OPS__8729108__wl.csv', sep='\\s*,\\s*', header=0, encoding='ascii', engine='python')\n",
    "#find the highest water level value and print entire line\n",
    "df[df['Water Level']==df['Water Level'].max()]"
   ]
  },
  {
   "cell_type": "code",
   "execution_count": 6,
   "metadata": {},
   "outputs": [
    {
     "data": {
      "text/html": [
       "<div>\n",
       "<style scoped>\n",
       "    .dataframe tbody tr th:only-of-type {\n",
       "        vertical-align: middle;\n",
       "    }\n",
       "\n",
       "    .dataframe tbody tr th {\n",
       "        vertical-align: top;\n",
       "    }\n",
       "\n",
       "    .dataframe thead th {\n",
       "        text-align: right;\n",
       "    }\n",
       "</style>\n",
       "<table border=\"1\" class=\"dataframe\">\n",
       "  <thead>\n",
       "    <tr style=\"text-align: right;\">\n",
       "      <th></th>\n",
       "      <th>Date Time</th>\n",
       "      <th>Water Level</th>\n",
       "      <th>Sigma</th>\n",
       "      <th>O</th>\n",
       "      <th>F</th>\n",
       "      <th>R</th>\n",
       "      <th>L</th>\n",
       "      <th>Quality</th>\n",
       "      <th>Water Difference</th>\n",
       "    </tr>\n",
       "  </thead>\n",
       "  <tbody>\n",
       "    <tr>\n",
       "      <th>417</th>\n",
       "      <td>2018-10-10 17:42</td>\n",
       "      <td>5.591</td>\n",
       "      <td>0.23</td>\n",
       "      <td>1</td>\n",
       "      <td>0</td>\n",
       "      <td>0</td>\n",
       "      <td>0</td>\n",
       "      <td>p</td>\n",
       "      <td>0.6399999999999997</td>\n",
       "    </tr>\n",
       "  </tbody>\n",
       "</table>\n",
       "</div>"
      ],
      "text/plain": [
       "            Date Time  Water Level  Sigma  O  F  R  L Quality  \\\n",
       "417  2018-10-10 17:42        5.591   0.23  1  0  0  0       p   \n",
       "\n",
       "       Water Difference  \n",
       "417  0.6399999999999997  "
      ]
     },
     "execution_count": 6,
     "metadata": {},
     "output_type": "execute_result"
    }
   ],
   "source": [
    "#problem 3\n",
    "import pandas as pd \n",
    "#read csv as pandas dataframe\n",
    "df = pd.read_csv('/ufrc/zoo6927/share/Class_Files/data/CO-OPS__8729108__wl.csv', sep='\\s*,\\s*', header=0, encoding='ascii', engine='python')\n",
    "#Add a column titled Water Difference that calculates the difference in water level between consecutive time points\n",
    "df['Water Difference'] = \\\n",
    "\t[str(n)\n",
    "    for n in df['Water Level'].diff().fillna(0)]\n",
    "#find the highest difference in water level between consecutive time points and print entire line\n",
    "df[df['Water Difference']==df['Water Difference'].max()]"
   ]
  },
  {
   "cell_type": "code",
   "execution_count": 10,
   "metadata": {},
   "outputs": [
    {
     "data": {
      "image/png": "[encoded data removed]",
      "text/plain": [
       "<Figure size 432x288 with 1 Axes>"
      ]
     },
     "metadata": {
      "needs_background": "light"
     },
     "output_type": "display_data"
    }
   ],
   "source": [
    "#problem 4\n",
    "#completed in a jupyter notebook\n",
    "import pandas as pd\n",
    "import csv\n",
    "import matplotlib.pyplot as plt\n",
    "df = pd.read_csv('/ufrc/zoo6927/share/Class_Files/data/CO-OPS__8729108__wl.csv',sep='\\s*,\\s*', engine='python')\n",
    "x = df['Date Time']\n",
    "y = df['Water Level']\n",
    "plt.plot(x,y)\n",
    "plt.ylabel('Water Level')\n",
    "plt.xlabel('Date')\n",
    "plt.show()\n"
   ]
  },
  {
   "cell_type": "code",
   "execution_count": 23,
   "metadata": {},
   "outputs": [
    {
     "name": "stdout",
     "output_type": "stream",
     "text": [
      "b'{\"metadata\":{\"id\":\"8729108\",\"name\":\"Panama City\",\"lat\":\"30.1523\",\"lon\":\"-85.6669\"}, \"data\": [{\"t\":\"2018-10-21 21:42\", \"v\":\"\", \"f\":\"1,1,1\"},{\"t\":\"2018-10-21 21:48\", \"v\":\"\", \"f\":\"1,1,1\"},{\"t\":\"2018-10-21 21:54\", \"v\":\"\", \"f\":\"1,1,1\"},{\"t\":\"2018-10-21 22:00\", \"v\":\"\", \"f\":\"1,1,1\"},{\"t\":\"2018-10-21 22:06\", \"v\":\"\", \"f\":\"1,1,1\"},{\"t\":\"2018-10-21 22:12\", \"v\":\"\", \"f\":\"1,1,1\"},{\"t\":\"2018-10-21 22:18\", \"v\":\"\", \"f\":\"1,1,1\"},{\"t\":\"2018-10-21 22:24\", \"v\":\"\", \"f\":\"1,1,1\"},{\"t\":\"2018-10-21 22:30\", \"v\":\"\", \"f\":\"1,1,1\"},{\"t\":\"2018-10-21 22:36\", \"v\":\"\", \"f\":\"1,1,1\"},{\"t\":\"2018-10-21 22:42\", \"v\":\"\", \"f\":\"1,1,1\"},{\"t\":\"2018-10-21 22:48\", \"v\":\"\", \"f\":\"1,1,1\"},{\"t\":\"2018-10-21 22:54\", \"v\":\"\", \"f\":\"1,1,1\"},{\"t\":\"2018-10-21 23:00\", \"v\":\"\", \"f\":\"1,1,1\"},{\"t\":\"2018-10-21 23:06\", \"v\":\"\", \"f\":\"1,1,1\"},{\"t\":\"2018-10-21 23:12\", \"v\":\"78.3\", \"f\":\"0,0,0\"},{\"t\":\"2018-10-21 23:18\", \"v\":\"78.3\", \"f\":\"0,0,0\"},{\"t\":\"2018-10-21 23:24\", \"v\":\"\", \"f\":\"1,1,1\"},{\"t\":\"2018-10-21 23:30\", \"v\":\"\", \"f\":\"1,1,1\"},{\"t\":\"2018-10-21 23:36\", \"v\":\"\", \"f\":\"1,1,1\"},{\"t\":\"2018-10-21 23:42\", \"v\":\"\", \"f\":\"1,1,1\"},{\"t\":\"2018-10-21 23:48\", \"v\":\"\", \"f\":\"1,1,1\"},{\"t\":\"2018-10-21 23:54\", \"v\":\"\", \"f\":\"1,1,1\"},{\"t\":\"2018-10-22 00:00\", \"v\":\"\", \"f\":\"1,1,1\"},{\"t\":\"2018-10-22 00:06\", \"v\":\"\", \"f\":\"1,1,1\"},{\"t\":\"2018-10-22 00:12\", \"v\":\"\", \"f\":\"1,1,1\"},{\"t\":\"2018-10-22 00:18\", \"v\":\"\", \"f\":\"1,1,1\"},{\"t\":\"2018-10-22 00:24\", \"v\":\"\", \"f\":\"1,1,1\"},{\"t\":\"2018-10-22 00:30\", \"v\":\"\", \"f\":\"1,1,1\"},{\"t\":\"2018-10-22 00:36\", \"v\":\"\", \"f\":\"1,1,1\"},{\"t\":\"2018-10-22 00:42\", \"v\":\"\", \"f\":\"1,1,1\"},{\"t\":\"2018-10-22 00:48\", \"v\":\"\", \"f\":\"1,1,1\"},{\"t\":\"2018-10-22 00:54\", \"v\":\"\", \"f\":\"1,1,1\"},{\"t\":\"2018-10-22 01:00\", \"v\":\"\", \"f\":\"1,1,1\"},{\"t\":\"2018-10-22 01:06\", \"v\":\"\", \"f\":\"1,1,1\"},{\"t\":\"2018-10-22 01:12\", \"v\":\"\", \"f\":\"1,1,1\"},{\"t\":\"2018-10-22 01:18\", \"v\":\"77.7\", \"f\":\"0,0,0\"},{\"t\":\"2018-10-22 01:24\", \"v\":\"\", \"f\":\"1,1,1\"},{\"t\":\"2018-10-22 01:30\", \"v\":\"\", \"f\":\"1,1,1\"},{\"t\":\"2018-10-22 01:36\", \"v\":\"\", \"f\":\"1,1,1\"},{\"t\":\"2018-10-22 01:42\", \"v\":\"\", \"f\":\"1,1,1\"},{\"t\":\"2018-10-22 01:48\", \"v\":\"\", \"f\":\"1,1,1\"},{\"t\":\"2018-10-22 01:54\", \"v\":\"\", \"f\":\"1,1,1\"},{\"t\":\"2018-10-22 02:00\", \"v\":\"\", \"f\":\"1,1,1\"},{\"t\":\"2018-10-22 02:06\", \"v\":\"\", \"f\":\"1,1,1\"},{\"t\":\"2018-10-22 02:12\", \"v\":\"77.5\", \"f\":\"0,0,0\"},{\"t\":\"2018-10-22 02:18\", \"v\":\"\", \"f\":\"1,1,1\"},{\"t\":\"2018-10-22 02:24\", \"v\":\"\", \"f\":\"1,1,1\"},{\"t\":\"2018-10-22 02:30\", \"v\":\"\", \"f\":\"1,1,1\"},{\"t\":\"2018-10-22 02:36\", \"v\":\"\", \"f\":\"1,1,1\"},{\"t\":\"2018-10-22 02:42\", \"v\":\"\", \"f\":\"1,1,1\"},{\"t\":\"2018-10-22 02:48\", \"v\":\"\", \"f\":\"1,1,1\"},{\"t\":\"2018-10-22 02:54\", \"v\":\"\", \"f\":\"1,1,1\"},{\"t\":\"2018-10-22 03:00\", \"v\":\"\", \"f\":\"1,1,1\"},{\"t\":\"2018-10-22 03:06\", \"v\":\"\", \"f\":\"1,1,1\"},{\"t\":\"2018-10-22 03:12\", \"v\":\"\", \"f\":\"1,1,1\"},{\"t\":\"2018-10-22 03:18\", \"v\":\"\", \"f\":\"1,1,1\"},{\"t\":\"2018-10-22 03:24\", \"v\":\"\", \"f\":\"1,1,1\"},{\"t\":\"2018-10-22 03:30\", \"v\":\"\", \"f\":\"1,1,1\"},{\"t\":\"2018-10-22 03:36\", \"v\":\"\", \"f\":\"1,1,1\"},{\"t\":\"2018-10-22 03:42\", \"v\":\"\", \"f\":\"1,1,1\"},{\"t\":\"2018-10-22 03:48\", \"v\":\"\", \"f\":\"1,1,1\"},{\"t\":\"2018-10-22 03:54\", \"v\":\"\", \"f\":\"1,1,1\"},{\"t\":\"2018-10-22 04:00\", \"v\":\"\", \"f\":\"1,1,1\"},{\"t\":\"2018-10-22 04:06\", \"v\":\"\", \"f\":\"1,1,1\"},{\"t\":\"2018-10-22 04:12\", \"v\":\"\", \"f\":\"1,1,1\"},{\"t\":\"2018-10-22 04:18\", \"v\":\"\", \"f\":\"1,1,1\"},{\"t\":\"2018-10-22 04:24\", \"v\":\"\", \"f\":\"1,1,1\"},{\"t\":\"2018-10-22 04:30\", \"v\":\"\", \"f\":\"1,1,1\"},{\"t\":\"2018-10-22 04:36\", \"v\":\"\", \"f\":\"1,1,1\"},{\"t\":\"2018-10-22 04:42\", \"v\":\"\", \"f\":\"1,1,1\"},{\"t\":\"2018-10-22 04:48\", \"v\":\"\", \"f\":\"1,1,1\"},{\"t\":\"2018-10-22 04:54\", \"v\":\"\", \"f\":\"1,1,1\"},{\"t\":\"2018-10-22 05:00\", \"v\":\"\", \"f\":\"1,1,1\"},{\"t\":\"2018-10-22 05:06\", \"v\":\"\", \"f\":\"1,1,1\"},{\"t\":\"2018-10-22 05:12\", \"v\":\"\", \"f\":\"1,1,1\"},{\"t\":\"2018-10-22 05:18\", \"v\":\"\", \"f\":\"1,1,1\"},{\"t\":\"2018-10-22 05:24\", \"v\":\"\", \"f\":\"1,1,1\"},{\"t\":\"2018-10-22 05:30\", \"v\":\"\", \"f\":\"1,1,1\"},{\"t\":\"2018-10-22 05:36\", \"v\":\"\", \"f\":\"1,1,1\"},{\"t\":\"2018-10-22 05:42\", \"v\":\"\", \"f\":\"1,1,1\"},{\"t\":\"2018-10-22 05:48\", \"v\":\"\", \"f\":\"1,1,1\"},{\"t\":\"2018-10-22 05:54\", \"v\":\"\", \"f\":\"1,1,1\"},{\"t\":\"2018-10-22 06:00\", \"v\":\"\", \"f\":\"1,1,1\"},{\"t\":\"2018-10-22 06:06\", \"v\":\"\", \"f\":\"1,1,1\"},{\"t\":\"2018-10-22 06:12\", \"v\":\"76.3\", \"f\":\"0,0,0\"},{\"t\":\"2018-10-22 06:18\", \"v\":\"76.3\", \"f\":\"0,0,0\"},{\"t\":\"2018-10-22 06:24\", \"v\":\"76.3\", \"f\":\"0,0,0\"},{\"t\":\"2018-10-22 06:30\", \"v\":\"76.3\", \"f\":\"0,0,0\"},{\"t\":\"2018-10-22 06:36\", \"v\":\"76.3\", \"f\":\"0,0,0\"},{\"t\":\"2018-10-22 06:42\", \"v\":\"76.1\", \"f\":\"0,0,0\"},{\"t\":\"2018-10-22 06:48\", \"v\":\"\", \"f\":\"1,1,1\"},{\"t\":\"2018-10-22 06:54\", \"v\":\"76.1\", \"f\":\"0,0,0\"},{\"t\":\"2018-10-22 07:00\", \"v\":\"76.1\", \"f\":\"0,0,0\"},{\"t\":\"2018-10-22 07:06\", \"v\":\"\", \"f\":\"1,1,1\"},{\"t\":\"2018-10-22 07:12\", \"v\":\"76.1\", \"f\":\"0,0,0\"},{\"t\":\"2018-10-22 07:18\", \"v\":\"\", \"f\":\"1,1,1\"},{\"t\":\"2018-10-22 07:24\", \"v\":\"\", \"f\":\"1,1,1\"},{\"t\":\"2018-10-22 07:30\", \"v\":\"75.9\", \"f\":\"0,0,0\"},{\"t\":\"2018-10-22 07:36\", \"v\":\"\", \"f\":\"1,1,1\"},{\"t\":\"2018-10-22 07:42\", \"v\":\"\", \"f\":\"1,1,1\"},{\"t\":\"2018-10-22 07:48\", \"v\":\"\", \"f\":\"1,1,1\"},{\"t\":\"2018-10-22 07:54\", \"v\":\"\", \"f\":\"1,1,1\"},{\"t\":\"2018-10-22 08:00\", \"v\":\"75.7\", \"f\":\"0,0,0\"},{\"t\":\"2018-10-22 08:06\", \"v\":\"\", \"f\":\"1,1,1\"},{\"t\":\"2018-10-22 08:12\", \"v\":\"75.7\", \"f\":\"0,0,0\"},{\"t\":\"2018-10-22 08:18\", \"v\":\"75.6\", \"f\":\"0,0,0\"},{\"t\":\"2018-10-22 08:24\", \"v\":\"\", \"f\":\"1,1,1\"},{\"t\":\"2018-10-22 08:30\", \"v\":\"\", \"f\":\"1,1,1\"},{\"t\":\"2018-10-22 08:36\", \"v\":\"\", \"f\":\"1,1,1\"},{\"t\":\"2018-10-22 08:42\", \"v\":\"\", \"f\":\"1,1,1\"},{\"t\":\"2018-10-22 08:48\", \"v\":\"\", \"f\":\"1,1,1\"},{\"t\":\"2018-10-22 08:54\", \"v\":\"75.4\", \"f\":\"0,0,0\"},{\"t\":\"2018-10-22 09:00\", \"v\":\"\", \"f\":\"1,1,1\"},{\"t\":\"2018-10-22 09:06\", \"v\":\"\", \"f\":\"1,1,1\"},{\"t\":\"2018-10-22 09:12\", \"v\":\"75.2\", \"f\":\"0,0,0\"},{\"t\":\"2018-10-22 09:18\", \"v\":\"75.2\", \"f\":\"0,0,0\"},{\"t\":\"2018-10-22 09:24\", \"v\":\"75.2\", \"f\":\"0,0,0\"},{\"t\":\"2018-10-22 09:30\", \"v\":\"75.2\", \"f\":\"0,0,0\"},{\"t\":\"2018-10-22 09:36\", \"v\":\"75.2\", \"f\":\"0,0,0\"},{\"t\":\"2018-10-22 09:42\", \"v\":\"\", \"f\":\"1,1,1\"},{\"t\":\"2018-10-22 09:48\", \"v\":\"\", \"f\":\"1,1,1\"},{\"t\":\"2018-10-22 09:54\", \"v\":\"\", \"f\":\"1,1,1\"},{\"t\":\"2018-10-22 10:00\", \"v\":\"\", \"f\":\"1,1,1\"},{\"t\":\"2018-10-22 10:06\", \"v\":\"75.0\", \"f\":\"0,0,0\"},{\"t\":\"2018-10-22 10:12\", \"v\":\"\", \"f\":\"1,1,1\"},{\"t\":\"2018-10-22 10:18\", \"v\":\"\", \"f\":\"1,1,1\"},{\"t\":\"2018-10-22 10:24\", \"v\":\"75.0\", \"f\":\"0,0,0\"},{\"t\":\"2018-10-22 10:30\", \"v\":\"\", \"f\":\"1,1,1\"},{\"t\":\"2018-10-22 10:36\", \"v\":\"\", \"f\":\"1,1,1\"},{\"t\":\"2018-10-22 10:42\", \"v\":\"75.0\", \"f\":\"0,0,0\"},{\"t\":\"2018-10-22 10:48\", \"v\":\"74.8\", \"f\":\"0,0,0\"},{\"t\":\"2018-10-22 10:54\", \"v\":\"74.8\", \"f\":\"0,0,0\"},{\"t\":\"2018-10-22 11:00\", \"v\":\"\", \"f\":\"1,1,1\"},{\"t\":\"2018-10-22 11:06\", \"v\":\"\", \"f\":\"1,1,1\"},{\"t\":\"2018-10-22 11:12\", \"v\":\"\", \"f\":\"1,1,1\"},{\"t\":\"2018-10-22 11:18\", \"v\":\"\", \"f\":\"1,1,1\"},{\"t\":\"2018-10-22 11:24\", \"v\":\"74.8\", \"f\":\"0,0,0\"},{\"t\":\"2018-10-22 11:30\", \"v\":\"74.8\", \"f\":\"0,0,0\"},{\"t\":\"2018-10-22 11:36\", \"v\":\"\", \"f\":\"1,1,1\"},{\"t\":\"2018-10-22 11:42\", \"v\":\"\", \"f\":\"1,1,1\"},{\"t\":\"2018-10-22 11:48\", \"v\":\"74.7\", \"f\":\"0,0,0\"},{\"t\":\"2018-10-22 11:54\", \"v\":\"74.7\", \"f\":\"0,0,0\"},{\"t\":\"2018-10-22 12:00\", \"v\":\"\", \"f\":\"1,1,1\"},{\"t\":\"2018-10-22 12:06\", \"v\":\"\", \"f\":\"1,1,1\"},{\"t\":\"2018-10-22 12:12\", \"v\":\"74.7\", \"f\":\"0,0,0\"},{\"t\":\"2018-10-22 12:18\", \"v\":\"\", \"f\":\"1,1,1\"},{\"t\":\"2018-10-22 12:24\", \"v\":\"\", \"f\":\"1,1,1\"},{\"t\":\"2018-10-22 12:30\", \"v\":\"\", \"f\":\"1,1,1\"},{\"t\":\"2018-10-22 12:36\", \"v\":\"\", \"f\":\"1,1,1\"},{\"t\":\"2018-10-22 12:42\", \"v\":\"\", \"f\":\"1,1,1\"},{\"t\":\"2018-10-22 12:48\", \"v\":\"\", \"f\":\"1,1,1\"},{\"t\":\"2018-10-22 12:54\", \"v\":\"\", \"f\":\"1,1,1\"},{\"t\":\"2018-10-22 13:00\", \"v\":\"\", \"f\":\"1,1,1\"},{\"t\":\"2018-10-22 13:06\", \"v\":\"\", \"f\":\"1,1,1\"},{\"t\":\"2018-10-22 13:12\", \"v\":\"\", \"f\":\"1,1,1\"},{\"t\":\"2018-10-22 13:18\", \"v\":\"74.5\", \"f\":\"0,0,0\"},{\"t\":\"2018-10-22 13:24\", \"v\":\"\", \"f\":\"1,1,1\"},{\"t\":\"2018-10-22 13:30\", \"v\":\"\", \"f\":\"1,1,1\"},{\"t\":\"2018-10-22 13:36\", \"v\":\"74.5\", \"f\":\"0,0,0\"},{\"t\":\"2018-10-22 13:42\", \"v\":\"\", \"f\":\"1,1,1\"},{\"t\":\"2018-10-22 13:48\", \"v\":\"\", \"f\":\"1,1,1\"},{\"t\":\"2018-10-22 13:54\", \"v\":\"\", \"f\":\"1,1,1\"},{\"t\":\"2018-10-22 14:00\", \"v\":\"\", \"f\":\"1,1,1\"},{\"t\":\"2018-10-22 14:06\", \"v\":\"\", \"f\":\"1,1,1\"},{\"t\":\"2018-10-22 14:12\", \"v\":\"\", \"f\":\"1,1,1\"},{\"t\":\"2018-10-22 14:18\", \"v\":\"\", \"f\":\"1,1,1\"},{\"t\":\"2018-10-22 14:24\", \"v\":\"\", \"f\":\"1,1,1\"},{\"t\":\"2018-10-22 14:30\", \"v\":\"74.7\", \"f\":\"0,0,0\"},{\"t\":\"2018-10-22 14:36\", \"v\":\"\", \"f\":\"1,1,1\"},{\"t\":\"2018-10-22 14:42\", \"v\":\"\", \"f\":\"1,1,1\"},{\"t\":\"2018-10-22 14:48\", \"v\":\"\", \"f\":\"1,1,1\"},{\"t\":\"2018-10-22 14:54\", \"v\":\"\", \"f\":\"1,1,1\"},{\"t\":\"2018-10-22 15:00\", \"v\":\"\", \"f\":\"1,1,1\"},{\"t\":\"2018-10-22 15:06\", \"v\":\"\", \"f\":\"1,1,1\"},{\"t\":\"2018-10-22 15:12\", \"v\":\"\", \"f\":\"1,1,1\"},{\"t\":\"2018-10-22 15:18\", \"v\":\"\", \"f\":\"1,1,1\"},{\"t\":\"2018-10-22 15:24\", \"v\":\"\", \"f\":\"1,1,1\"},{\"t\":\"2018-10-22 15:30\", \"v\":\"\", \"f\":\"1,1,1\"},{\"t\":\"2018-10-22 15:36\", \"v\":\"\", \"f\":\"1,1,1\"},{\"t\":\"2018-10-22 15:42\", \"v\":\"\", \"f\":\"1,1,1\"},{\"t\":\"2018-10-22 15:48\", \"v\":\"75.0\", \"f\":\"0,0,0\"},{\"t\":\"2018-10-22 15:54\", \"v\":\"\", \"f\":\"1,1,1\"},{\"t\":\"2018-10-22 16:00\", \"v\":\"\", \"f\":\"1,1,1\"},{\"t\":\"2018-10-22 16:06\", \"v\":\"\", \"f\":\"1,1,1\"},{\"t\":\"2018-10-22 16:12\", \"v\":\"\", \"f\":\"1,1,1\"},{\"t\":\"2018-10-22 16:18\", \"v\":\"\", \"f\":\"1,1,1\"},{\"t\":\"2018-10-22 16:24\", \"v\":\"\", \"f\":\"1,1,1\"},{\"t\":\"2018-10-22 16:30\", \"v\":\"\", \"f\":\"1,1,1\"},{\"t\":\"2018-10-22 16:36\", \"v\":\"\", \"f\":\"1,1,1\"},{\"t\":\"2018-10-22 16:42\", \"v\":\"\", \"f\":\"1,1,1\"},{\"t\":\"2018-10-22 16:48\", \"v\":\"\", \"f\":\"1,1,1\"},{\"t\":\"2018-10-22 16:54\", \"v\":\"\", \"f\":\"1,1,1\"},{\"t\":\"2018-10-22 17:00\", \"v\":\"\", \"f\":\"1,1,1\"},{\"t\":\"2018-10-22 17:06\", \"v\":\"\", \"f\":\"1,1,1\"},{\"t\":\"2018-10-22 17:12\", \"v\":\"\", \"f\":\"1,1,1\"},{\"t\":\"2018-10-22 17:18\", \"v\":\"\", \"f\":\"1,1,1\"},{\"t\":\"2018-10-22 17:24\", \"v\":\"\", \"f\":\"1,1,1\"},{\"t\":\"2018-10-22 17:30\", \"v\":\"\", \"f\":\"1,1,1\"},{\"t\":\"2018-10-22 17:36\", \"v\":\"\", \"f\":\"1,1,1\"},{\"t\":\"2018-10-22 17:42\", \"v\":\"\", \"f\":\"1,1,1\"},{\"t\":\"2018-10-22 17:48\", \"v\":\"\", \"f\":\"1,1,1\"},{\"t\":\"2018-10-22 17:54\", \"v\":\"\", \"f\":\"1,1,1\"},{\"t\":\"2018-10-22 18:00\", \"v\":\"\", \"f\":\"1,1,1\"},{\"t\":\"2018-10-22 18:06\", \"v\":\"\", \"f\":\"1,1,1\"},{\"t\":\"2018-10-22 18:12\", \"v\":\"75.6\", \"f\":\"0,0,0\"},{\"t\":\"2018-10-22 18:18\", \"v\":\"\", \"f\":\"1,1,1\"},{\"t\":\"2018-10-22 18:24\", \"v\":\"\", \"f\":\"1,1,1\"},{\"t\":\"2018-10-22 18:30\", \"v\":\"\", \"f\":\"1,1,1\"},{\"t\":\"2018-10-22 18:36\", \"v\":\"\", \"f\":\"1,1,1\"},{\"t\":\"2018-10-22 18:42\", \"v\":\"75.7\", \"f\":\"0,0,0\"},{\"t\":\"2018-10-22 18:48\", \"v\":\"\", \"f\":\"1,1,1\"},{\"t\":\"2018-10-22 18:54\", \"v\":\"75.7\", \"f\":\"0,0,0\"},{\"t\":\"2018-10-22 19:00\", \"v\":\"\", \"f\":\"1,1,1\"},{\"t\":\"2018-10-22 19:06\", \"v\":\"\", \"f\":\"1,1,1\"},{\"t\":\"2018-10-22 19:12\", \"v\":\"\", \"f\":\"1,1,1\"},{\"t\":\"2018-10-22 19:18\", \"v\":\"\", \"f\":\"1,1,1\"},{\"t\":\"2018-10-22 19:24\", \"v\":\"75.9\", \"f\":\"0,0,0\"},{\"t\":\"2018-10-22 19:30\", \"v\":\"\", \"f\":\"1,1,1\"},{\"t\":\"2018-10-22 19:36\", \"v\":\"75.9\", \"f\":\"0,0,0\"},{\"t\":\"2018-10-22 19:42\", \"v\":\"\", \"f\":\"1,1,1\"},{\"t\":\"2018-10-22 19:48\", \"v\":\"\", \"f\":\"1,1,1\"},{\"t\":\"2018-10-22 19:54\", \"v\":\"\", \"f\":\"1,1,1\"},{\"t\":\"2018-10-22 20:00\", \"v\":\"\", \"f\":\"1,1,1\"},{\"t\":\"2018-10-22 20:06\", \"v\":\"\", \"f\":\"1,1,1\"},{\"t\":\"2018-10-22 20:12\", \"v\":\"\", \"f\":\"1,1,1\"},{\"t\":\"2018-10-22 20:18\", \"v\":\"\", \"f\":\"1,1,1\"},{\"t\":\"2018-10-22 20:24\", \"v\":\"\", \"f\":\"1,1,1\"},{\"t\":\"2018-10-22 20:30\", \"v\":\"76.1\", \"f\":\"0,0,0\"},{\"t\":\"2018-10-22 20:36\", \"v\":\"\", \"f\":\"1,1,1\"},{\"t\":\"2018-10-22 20:42\", \"v\":\"\", \"f\":\"1,1,1\"},{\"t\":\"2018-10-22 20:48\", \"v\":\"\", \"f\":\"1,1,1\"},{\"t\":\"2018-10-22 20:54\", \"v\":\"\", \"f\":\"1,1,1\"},{\"t\":\"2018-10-22 21:00\", \"v\":\"\", \"f\":\"1,1,1\"},{\"t\":\"2018-10-22 21:06\", \"v\":\"76.1\", \"f\":\"0,0,0\"},{\"t\":\"2018-10-22 21:12\", \"v\":\"\", \"f\":\"1,1,1\"},{\"t\":\"2018-10-22 21:18\", \"v\":\"\", \"f\":\"1,1,1\"},{\"t\":\"2018-10-22 21:24\", \"v\":\"\", \"f\":\"1,1,1\"},{\"t\":\"2018-10-22 21:30\", \"v\":\"76.1\", \"f\":\"0,0,0\"}]}\\n'\n"
     ]
    }
   ],
   "source": [
    "#Bonus question:\n",
    "\n",
    "import urllib.request, urllib.parse, urllib.error\n",
    "import json\n",
    "\n",
    "#x = urllib.request.urlopen('https://tidesandcurrents.noaa.gov/api/datagetter?range=24&station=8729108&product=water_temperature&units=english&time_zone=gmt&application=ports_screen&format=json')\n",
    "#print(x.read())\n",
    "\n",
    "url = 'https://tidesandcurrents.noaa.gov/api/datagetter?range=24&station=8729108&product=water_temperature&units=english&time_zone=gmt&application=ports_screen&format=json'\n",
    "values = {'range':'24',\n",
    "        'station':'8729108',\n",
    "        'product':'water_temperature',\n",
    "        'units':'english',\n",
    "        'time_zone':'gmt',\n",
    "        'application':'ports_screen',\n",
    "        'format':'json'}\n",
    "\n",
    "data = urllib.parse.urlencode(values)\n",
    "data = data.encode('utf-8')\n",
    "req = urllib.request.Request(url,data)\n",
    "resp = urllib.request.urlopen(req)\n",
    "respData = resp.read()\n",
    "\n",
    "print(respData)"
   ]
  },
  {
   "cell_type": "code",
   "execution_count": null,
   "metadata": {},
   "outputs": [],
   "source": []
  }
 ],
 "metadata": {
  "kernelspec": {
   "display_name": "Python 3",
   "language": "python",
   "name": "python3"
  },
  "language_info": {
   "codemirror_mode": {
    "name": "ipython",
    "version": 3
   },
   "file_extension": ".py",
   "mimetype": "text/x-python",
   "name": "python",
   "nbconvert_exporter": "python",
   "pygments_lexer": "ipython3",
   "version": "3.6.3"
  }
 },
 "nbformat": 4,
 "nbformat_minor": 2
}
